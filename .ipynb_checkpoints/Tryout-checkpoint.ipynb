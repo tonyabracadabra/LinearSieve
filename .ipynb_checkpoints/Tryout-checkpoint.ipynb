{
 "cells": [
  {
   "cell_type": "code",
   "execution_count": 1,
   "metadata": {
    "collapsed": false
   },
   "outputs": [],
   "source": [
    "import linearsieve as sieve\n",
    "import numpy as np\n",
    "import scipy.io as sio\n",
    "\n",
    "from sklearn.datasets import load_iris\n",
    "from sklearn.datasets import load_digits\n",
    "\n",
    "\n",
    "# digits = load_digits().data\n",
    "iris = load_iris().data\n",
    "label_iris = load_iris().target\n",
    "\n",
    "digits = load_digits().data\n",
    "label_digits = load_digits().target\n",
    "\n",
    "# ourdata = sio.loadmat(\"/Users/xupeng.tong/Documents/Data/OriginalData/B_mean_2labels.mat\")\n",
    "ourdata = sio.loadmat(\"/Volumes/TONY/Regeneron/Data/OriginalData/B_mean_2labels.mat\")\n",
    "\n",
    "inputX = ourdata['X']\n",
    "# inputX = normalize(inputX, axis=0)\n",
    "inputY = ourdata['Y'][0,:]\n",
    "columnNames = ourdata['columnNames']"
   ]
  },
  {
   "cell_type": "code",
   "execution_count": 2,
   "metadata": {
    "collapsed": false
   },
   "outputs": [
    {
     "name": "stdout",
     "output_type": "stream",
     "text": [
      "Processed for 0 layers\n",
      "Processed for 1 layers\n",
      "Processed for 2 layers\n",
      "Processed for 3 layers\n",
      "Processed for 4 layers\n",
      "Processed for 5 layers\n",
      "Processed for 6 layers\n",
      "Processed for 7 layers\n",
      "Processed for 8 layers\n",
      "Processed for 9 layers\n"
     ]
    }
   ],
   "source": [
    "ns, nv = iris.shape  # x_train is an array with rows for samples and columns for variables.\n",
    "out = sieve.Sieve(n_hidden=10).fit(inputX)  \n",
    "y = out.transform(inputX)  # missing values in x_test are set to np.nan\n",
    "x_predict = out.predict(y)  # all values are predicted, missing and not missing\n",
    "# print out.ws[:,:nv]  # These are the weights for how each latent factor depends on each variable."
   ]
  },
  {
   "cell_type": "code",
   "execution_count": 7,
   "metadata": {
    "collapsed": true
   },
   "outputs": [],
   "source": [
    "def purity_score(clusters, classes):    \n",
    "    A = np.c_[(clusters,classes)]\n",
    "\n",
    "    n_accurate = 0.\n",
    "\n",
    "    for j in np.unique(A[:,0]):\n",
    "        z = A[A[:,0] == j, 1]\n",
    "        x = np.argmax(np.bincount(z))\n",
    "        n_accurate += len(z[z == x])\n",
    "\n",
    "    return n_accurate / A.shape[0]"
   ]
  },
  {
   "cell_type": "code",
   "execution_count": 16,
   "metadata": {
    "collapsed": false
   },
   "outputs": [],
   "source": [
    "from sklearn.cluster import KMeans\n",
    "from sklearn.cluster import SpectralClustering\n",
    "from sklearn.cluster import AffinityPropagation\n",
    "\n",
    "km = KMeans(n_clusters=5)\n",
    "# sc = SpectralClustering(n_clusters=3)\n",
    "# ap = AffinityPropagation()\n",
    "\n",
    "cluster_km = km.fit_predict(inputX)\n",
    "# cluster_sc = sc.fit_predict(iris)\n",
    "# cluster_ap =ap.fit_predict(digits)\n",
    "\n",
    "# print purity_score(label_digits, cluster_ap)\n",
    "# print purity_score(label_digits, cluster_km)\n",
    "# print purity_score(label_iris, cluster_sc)"
   ]
  },
  {
   "cell_type": "code",
   "execution_count": 17,
   "metadata": {
    "collapsed": false
   },
   "outputs": [],
   "source": [
    "cluster_km2 = km.fit_predict(y)\n",
    "# cluster_sc = sc.fit_predict(y)\n",
    "# cluster_ap =ap.fit_predict(y)\n",
    "\n",
    "# print purity_score(label_digits, cluster_ap)\n",
    "# print purity_score(label_digits, cluster_km)\n",
    "# print purity_score(label_iris, cluster_sc)"
   ]
  },
  {
   "cell_type": "code",
   "execution_count": 19,
   "metadata": {
    "collapsed": false
   },
   "outputs": [
    {
     "name": "stdout",
     "output_type": "stream",
     "text": [
      "-0.0224594346667\n"
     ]
    }
   ],
   "source": [
    "from sklearn.metrics import silhouette_score\n",
    "\n",
    "print silhouette_score(inputX, cluster_km2)"
   ]
  },
  {
   "cell_type": "code",
   "execution_count": 18,
   "metadata": {
    "collapsed": false
   },
   "outputs": [
    {
     "name": "stdout",
     "output_type": "stream",
     "text": [
      "-0.0132525380741\n"
     ]
    }
   ],
   "source": [
    "print silhouette_score(inputX, cluster_km)"
   ]
  },
  {
   "cell_type": "code",
   "execution_count": 4,
   "metadata": {
    "collapsed": false
   },
   "outputs": [
    {
     "data": {
      "text/plain": [
       "array([[ 0.39008178,  0.76931354,  0.42936182, ...,  0.11439915,\n",
       "         0.3088654 ,  0.99514499],\n",
       "       [ 0.15195234,  0.99499012,  0.40683762, ..., -0.01708625,\n",
       "         0.0282174 ,  0.99111749],\n",
       "       [ 0.19593362,  0.96594274,  0.41573995, ..., -0.00884058,\n",
       "         0.04946375,  0.99153626],\n",
       "       ..., \n",
       "       [ 0.6041162 ,  0.40917135,  0.55060372, ...,  0.2864388 ,\n",
       "         0.37490041,  0.99190829],\n",
       "       [ 0.35565835,  0.8258029 ,  0.37279693, ...,  0.07820658,\n",
       "         0.22412097,  0.99110118],\n",
       "       [ 0.31443765,  0.59114482,  0.53448042, ...,  0.08909753,\n",
       "         0.20632635,  0.99884724]])"
      ]
     },
     "execution_count": 4,
     "metadata": {},
     "output_type": "execute_result"
    }
   ],
   "source": [
    "x_predict"
   ]
  },
  {
   "cell_type": "code",
   "execution_count": 5,
   "metadata": {
    "collapsed": false
   },
   "outputs": [
    {
     "data": {
      "text/plain": [
       "array([[ 0.38800905,  1.        ,  0.5       , ...,  0.        ,\n",
       "         1.        ,  0.99214055],\n",
       "       [ 0.10294118,  1.        ,  0.        , ...,  0.        ,\n",
       "         0.        ,  0.99214055],\n",
       "       [ 0.07239819,  1.        ,  1.        , ...,  0.        ,\n",
       "         0.        ,  0.99214055],\n",
       "       ..., \n",
       "       [ 0.5260181 ,  0.        ,  0.        , ...,  0.16849662,\n",
       "         0.        ,  0.99214055],\n",
       "       [ 0.14819005,  1.        ,  0.5       , ...,  0.        ,\n",
       "         0.        ,  0.99214055],\n",
       "       [ 0.20022624,  1.        ,  0.5       , ...,  0.        ,\n",
       "         0.        ,  0.99214055]])"
      ]
     },
     "execution_count": 5,
     "metadata": {},
     "output_type": "execute_result"
    }
   ],
   "source": [
    "inputX"
   ]
  }
 ],
 "metadata": {
  "kernelspec": {
   "display_name": "Python 2",
   "language": "python",
   "name": "python2"
  },
  "language_info": {
   "codemirror_mode": {
    "name": "ipython",
    "version": 2
   },
   "file_extension": ".py",
   "mimetype": "text/x-python",
   "name": "python",
   "nbconvert_exporter": "python",
   "pygments_lexer": "ipython2",
   "version": "2.7.11"
  }
 },
 "nbformat": 4,
 "nbformat_minor": 0
}
